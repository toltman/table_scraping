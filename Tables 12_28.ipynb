{
 "cells": [
  {
   "cell_type": "code",
   "execution_count": 1,
   "metadata": {},
   "outputs": [],
   "source": [
    "import numpy as np\n",
    "import pandas as pd\n",
    "import re\n",
    "import os\n",
    "from table import Table"
   ]
  },
  {
   "cell_type": "code",
   "execution_count": 2,
   "metadata": {},
   "outputs": [],
   "source": [
    "pd.set_option(\"display.max_rows\", None, \"display.max_columns\", None)"
   ]
  },
  {
   "cell_type": "code",
   "execution_count": 3,
   "metadata": {},
   "outputs": [
    {
     "name": "stdout",
     "output_type": "stream",
     "text": [
      "   column_level_1  column_level_2 column_level_3 column_level_4  \\\n",
      "0          Actual          1990.0                                 \n",
      "1          Actual          1990.0                                 \n",
      "2          Actual          2000.0                                 \n",
      "3          Actual          2000.0                                 \n",
      "4          Actual          2010.0                                 \n",
      "5          Actual          2010.0                                 \n",
      "6          Actual          2017.0                                 \n",
      "7          Actual          2017.0                                 \n",
      "8       Projected          2018.0                                 \n",
      "9       Projected          2018.0                                 \n",
      "10      Projected          2019.0                                 \n",
      "11      Projected          2020.0                                 \n",
      "12      Projected          2021.0                                 \n",
      "13      Projected          2022.0                                 \n",
      "14      Projected          2023.0                                 \n",
      "15      Projected          2024.0                                 \n",
      "16      Projected          2025.0                                 \n",
      "17      Projected          2026.0                                 \n",
      "18      Projected          2027.0                                 \n",
      "19      Projected          2028.0                                 \n",
      "20      Projected          2029.0                                 \n",
      "\n",
      "   column_level_5 column_level_6 column_level_7 digest_table_id  \\\n",
      "0                                                        105.20   \n",
      "1                                                        105.20   \n",
      "2                                                        105.20   \n",
      "3                                                        105.20   \n",
      "4                                                        105.20   \n",
      "5                                                        105.20   \n",
      "6                                                        105.20   \n",
      "7                                                        105.20   \n",
      "8                                                        105.20   \n",
      "9                                                        105.20   \n",
      "10                                                       105.20   \n",
      "11                                                       105.20   \n",
      "12                                                       105.20   \n",
      "13                                                       105.20   \n",
      "14                                                       105.20   \n",
      "15                                                       105.20   \n",
      "16                                                       105.20   \n",
      "17                                                       105.20   \n",
      "18                                                       105.20   \n",
      "19                                                       105.20   \n",
      "20                                                       105.20   \n",
      "\n",
      "   digest_table_year  \n",
      "0               2019  \n",
      "1               2019  \n",
      "2               2019  \n",
      "3               2019  \n",
      "4               2019  \n",
      "5               2019  \n",
      "6               2019  \n",
      "7               2019  \n",
      "8               2019  \n",
      "9               2019  \n",
      "10              2019  \n",
      "11              2019  \n",
      "12              2019  \n",
      "13              2019  \n",
      "14              2019  \n",
      "15              2019  \n",
      "16              2019  \n",
      "17              2019  \n",
      "18              2019  \n",
      "19              2019  \n",
      "20              2019  \n"
     ]
    }
   ],
   "source": [
    "tabn = '105.20'\n",
    "tab = Table('100tables/tabn' + tabn + '.xls', '2019')"
   ]
  },
  {
   "cell_type": "code",
   "execution_count": 4,
   "metadata": {},
   "outputs": [
    {
     "data": {
      "text/html": [
       "<div>\n",
       "<style scoped>\n",
       "    .dataframe tbody tr th:only-of-type {\n",
       "        vertical-align: middle;\n",
       "    }\n",
       "\n",
       "    .dataframe tbody tr th {\n",
       "        vertical-align: top;\n",
       "    }\n",
       "\n",
       "    .dataframe thead th {\n",
       "        text-align: right;\n",
       "    }\n",
       "</style>\n",
       "<table border=\"1\" class=\"dataframe\">\n",
       "  <thead>\n",
       "    <tr style=\"text-align: right;\">\n",
       "      <th></th>\n",
       "      <th>digest_table_id</th>\n",
       "      <th>digest_table_year</th>\n",
       "      <th>digest_table_sub_id</th>\n",
       "      <th>digest_table_sub_title</th>\n",
       "      <th>column_index</th>\n",
       "      <th>value_represents</th>\n",
       "      <th>is_total</th>\n",
       "      <th>year</th>\n",
       "      <th>column_level_1</th>\n",
       "      <th>column_ref_note_1</th>\n",
       "      <th>column_level_2</th>\n",
       "      <th>column_ref_note_2</th>\n",
       "      <th>column_level_3</th>\n",
       "      <th>column_ref_note_3</th>\n",
       "      <th>column_level_4</th>\n",
       "      <th>column_ref_note_4</th>\n",
       "      <th>column_level_5</th>\n",
       "      <th>column_ref_note_5</th>\n",
       "      <th>column_level_6</th>\n",
       "      <th>column_ref_note_6</th>\n",
       "      <th>column_level_7</th>\n",
       "      <th>column_ref_note_7</th>\n",
       "    </tr>\n",
       "  </thead>\n",
       "  <tbody>\n",
       "    <tr>\n",
       "      <th>0</th>\n",
       "      <td>105.20</td>\n",
       "      <td>2019</td>\n",
       "      <td>A</td>\n",
       "      <td></td>\n",
       "      <td>A</td>\n",
       "      <td>Count</td>\n",
       "      <td>FALSE</td>\n",
       "      <td>1990.0</td>\n",
       "      <td>Actual</td>\n",
       "      <td></td>\n",
       "      <td>1990.0</td>\n",
       "      <td></td>\n",
       "      <td></td>\n",
       "      <td></td>\n",
       "      <td></td>\n",
       "      <td></td>\n",
       "      <td></td>\n",
       "      <td></td>\n",
       "      <td></td>\n",
       "      <td></td>\n",
       "      <td></td>\n",
       "      <td></td>\n",
       "    </tr>\n",
       "    <tr>\n",
       "      <th>1</th>\n",
       "      <td>105.20</td>\n",
       "      <td>2019</td>\n",
       "      <td>A</td>\n",
       "      <td></td>\n",
       "      <td>B</td>\n",
       "      <td>Count</td>\n",
       "      <td>FALSE</td>\n",
       "      <td>2000.0</td>\n",
       "      <td>Actual</td>\n",
       "      <td></td>\n",
       "      <td>2000.0</td>\n",
       "      <td></td>\n",
       "      <td></td>\n",
       "      <td></td>\n",
       "      <td></td>\n",
       "      <td></td>\n",
       "      <td></td>\n",
       "      <td></td>\n",
       "      <td></td>\n",
       "      <td></td>\n",
       "      <td></td>\n",
       "      <td></td>\n",
       "    </tr>\n",
       "    <tr>\n",
       "      <th>2</th>\n",
       "      <td>105.20</td>\n",
       "      <td>2019</td>\n",
       "      <td>A</td>\n",
       "      <td></td>\n",
       "      <td>C</td>\n",
       "      <td>Count</td>\n",
       "      <td>FALSE</td>\n",
       "      <td>2010.0</td>\n",
       "      <td>Actual</td>\n",
       "      <td></td>\n",
       "      <td>2010.0</td>\n",
       "      <td></td>\n",
       "      <td></td>\n",
       "      <td></td>\n",
       "      <td></td>\n",
       "      <td></td>\n",
       "      <td></td>\n",
       "      <td></td>\n",
       "      <td></td>\n",
       "      <td></td>\n",
       "      <td></td>\n",
       "      <td></td>\n",
       "    </tr>\n",
       "    <tr>\n",
       "      <th>3</th>\n",
       "      <td>105.20</td>\n",
       "      <td>2019</td>\n",
       "      <td>A</td>\n",
       "      <td></td>\n",
       "      <td>D</td>\n",
       "      <td>Count</td>\n",
       "      <td>FALSE</td>\n",
       "      <td>2017.0</td>\n",
       "      <td>Actual</td>\n",
       "      <td></td>\n",
       "      <td>2017.0</td>\n",
       "      <td></td>\n",
       "      <td></td>\n",
       "      <td></td>\n",
       "      <td></td>\n",
       "      <td></td>\n",
       "      <td></td>\n",
       "      <td></td>\n",
       "      <td></td>\n",
       "      <td></td>\n",
       "      <td></td>\n",
       "      <td></td>\n",
       "    </tr>\n",
       "    <tr>\n",
       "      <th>4</th>\n",
       "      <td>105.20</td>\n",
       "      <td>2019</td>\n",
       "      <td>A</td>\n",
       "      <td></td>\n",
       "      <td>E</td>\n",
       "      <td>Count</td>\n",
       "      <td>FALSE</td>\n",
       "      <td>2018.0</td>\n",
       "      <td>Projected</td>\n",
       "      <td></td>\n",
       "      <td>2018.0</td>\n",
       "      <td></td>\n",
       "      <td></td>\n",
       "      <td></td>\n",
       "      <td></td>\n",
       "      <td></td>\n",
       "      <td></td>\n",
       "      <td></td>\n",
       "      <td></td>\n",
       "      <td></td>\n",
       "      <td></td>\n",
       "      <td></td>\n",
       "    </tr>\n",
       "    <tr>\n",
       "      <th>5</th>\n",
       "      <td>105.20</td>\n",
       "      <td>2019</td>\n",
       "      <td>A</td>\n",
       "      <td></td>\n",
       "      <td>F</td>\n",
       "      <td>Count</td>\n",
       "      <td>FALSE</td>\n",
       "      <td>2019.0</td>\n",
       "      <td>Projected</td>\n",
       "      <td></td>\n",
       "      <td>2019.0</td>\n",
       "      <td></td>\n",
       "      <td></td>\n",
       "      <td></td>\n",
       "      <td></td>\n",
       "      <td></td>\n",
       "      <td></td>\n",
       "      <td></td>\n",
       "      <td></td>\n",
       "      <td></td>\n",
       "      <td></td>\n",
       "      <td></td>\n",
       "    </tr>\n",
       "    <tr>\n",
       "      <th>6</th>\n",
       "      <td>105.20</td>\n",
       "      <td>2019</td>\n",
       "      <td>A</td>\n",
       "      <td></td>\n",
       "      <td>G</td>\n",
       "      <td>Count</td>\n",
       "      <td>FALSE</td>\n",
       "      <td>2020.0</td>\n",
       "      <td>Projected</td>\n",
       "      <td></td>\n",
       "      <td>2020.0</td>\n",
       "      <td></td>\n",
       "      <td></td>\n",
       "      <td></td>\n",
       "      <td></td>\n",
       "      <td></td>\n",
       "      <td></td>\n",
       "      <td></td>\n",
       "      <td></td>\n",
       "      <td></td>\n",
       "      <td></td>\n",
       "      <td></td>\n",
       "    </tr>\n",
       "    <tr>\n",
       "      <th>7</th>\n",
       "      <td>105.20</td>\n",
       "      <td>2019</td>\n",
       "      <td>A</td>\n",
       "      <td></td>\n",
       "      <td>H</td>\n",
       "      <td>Count</td>\n",
       "      <td>FALSE</td>\n",
       "      <td>2021.0</td>\n",
       "      <td>Projected</td>\n",
       "      <td></td>\n",
       "      <td>2021.0</td>\n",
       "      <td></td>\n",
       "      <td></td>\n",
       "      <td></td>\n",
       "      <td></td>\n",
       "      <td></td>\n",
       "      <td></td>\n",
       "      <td></td>\n",
       "      <td></td>\n",
       "      <td></td>\n",
       "      <td></td>\n",
       "      <td></td>\n",
       "    </tr>\n",
       "    <tr>\n",
       "      <th>8</th>\n",
       "      <td>105.20</td>\n",
       "      <td>2019</td>\n",
       "      <td>A</td>\n",
       "      <td></td>\n",
       "      <td>I</td>\n",
       "      <td>Count</td>\n",
       "      <td>FALSE</td>\n",
       "      <td>2022.0</td>\n",
       "      <td>Projected</td>\n",
       "      <td></td>\n",
       "      <td>2022.0</td>\n",
       "      <td></td>\n",
       "      <td></td>\n",
       "      <td></td>\n",
       "      <td></td>\n",
       "      <td></td>\n",
       "      <td></td>\n",
       "      <td></td>\n",
       "      <td></td>\n",
       "      <td></td>\n",
       "      <td></td>\n",
       "      <td></td>\n",
       "    </tr>\n",
       "    <tr>\n",
       "      <th>9</th>\n",
       "      <td>105.20</td>\n",
       "      <td>2019</td>\n",
       "      <td>A</td>\n",
       "      <td></td>\n",
       "      <td>J</td>\n",
       "      <td>Count</td>\n",
       "      <td>FALSE</td>\n",
       "      <td>2023.0</td>\n",
       "      <td>Projected</td>\n",
       "      <td></td>\n",
       "      <td>2023.0</td>\n",
       "      <td></td>\n",
       "      <td></td>\n",
       "      <td></td>\n",
       "      <td></td>\n",
       "      <td></td>\n",
       "      <td></td>\n",
       "      <td></td>\n",
       "      <td></td>\n",
       "      <td></td>\n",
       "      <td></td>\n",
       "      <td></td>\n",
       "    </tr>\n",
       "    <tr>\n",
       "      <th>10</th>\n",
       "      <td>105.20</td>\n",
       "      <td>2019</td>\n",
       "      <td>A</td>\n",
       "      <td></td>\n",
       "      <td>K</td>\n",
       "      <td>Count</td>\n",
       "      <td>FALSE</td>\n",
       "      <td>2024.0</td>\n",
       "      <td>Projected</td>\n",
       "      <td></td>\n",
       "      <td>2024.0</td>\n",
       "      <td></td>\n",
       "      <td></td>\n",
       "      <td></td>\n",
       "      <td></td>\n",
       "      <td></td>\n",
       "      <td></td>\n",
       "      <td></td>\n",
       "      <td></td>\n",
       "      <td></td>\n",
       "      <td></td>\n",
       "      <td></td>\n",
       "    </tr>\n",
       "    <tr>\n",
       "      <th>11</th>\n",
       "      <td>105.20</td>\n",
       "      <td>2019</td>\n",
       "      <td>A</td>\n",
       "      <td></td>\n",
       "      <td>L</td>\n",
       "      <td>Count</td>\n",
       "      <td>FALSE</td>\n",
       "      <td>2025.0</td>\n",
       "      <td>Projected</td>\n",
       "      <td></td>\n",
       "      <td>2025.0</td>\n",
       "      <td></td>\n",
       "      <td></td>\n",
       "      <td></td>\n",
       "      <td></td>\n",
       "      <td></td>\n",
       "      <td></td>\n",
       "      <td></td>\n",
       "      <td></td>\n",
       "      <td></td>\n",
       "      <td></td>\n",
       "      <td></td>\n",
       "    </tr>\n",
       "    <tr>\n",
       "      <th>12</th>\n",
       "      <td>105.20</td>\n",
       "      <td>2019</td>\n",
       "      <td>A</td>\n",
       "      <td></td>\n",
       "      <td>M</td>\n",
       "      <td>Count</td>\n",
       "      <td>FALSE</td>\n",
       "      <td>2026.0</td>\n",
       "      <td>Projected</td>\n",
       "      <td></td>\n",
       "      <td>2026.0</td>\n",
       "      <td></td>\n",
       "      <td></td>\n",
       "      <td></td>\n",
       "      <td></td>\n",
       "      <td></td>\n",
       "      <td></td>\n",
       "      <td></td>\n",
       "      <td></td>\n",
       "      <td></td>\n",
       "      <td></td>\n",
       "      <td></td>\n",
       "    </tr>\n",
       "    <tr>\n",
       "      <th>13</th>\n",
       "      <td>105.20</td>\n",
       "      <td>2019</td>\n",
       "      <td>A</td>\n",
       "      <td></td>\n",
       "      <td>N</td>\n",
       "      <td>Count</td>\n",
       "      <td>FALSE</td>\n",
       "      <td>2027.0</td>\n",
       "      <td>Projected</td>\n",
       "      <td></td>\n",
       "      <td>2027.0</td>\n",
       "      <td></td>\n",
       "      <td></td>\n",
       "      <td></td>\n",
       "      <td></td>\n",
       "      <td></td>\n",
       "      <td></td>\n",
       "      <td></td>\n",
       "      <td></td>\n",
       "      <td></td>\n",
       "      <td></td>\n",
       "      <td></td>\n",
       "    </tr>\n",
       "    <tr>\n",
       "      <th>14</th>\n",
       "      <td>105.20</td>\n",
       "      <td>2019</td>\n",
       "      <td>A</td>\n",
       "      <td></td>\n",
       "      <td>O</td>\n",
       "      <td>Count</td>\n",
       "      <td>FALSE</td>\n",
       "      <td>2028.0</td>\n",
       "      <td>Projected</td>\n",
       "      <td></td>\n",
       "      <td>2028.0</td>\n",
       "      <td></td>\n",
       "      <td></td>\n",
       "      <td></td>\n",
       "      <td></td>\n",
       "      <td></td>\n",
       "      <td></td>\n",
       "      <td></td>\n",
       "      <td></td>\n",
       "      <td></td>\n",
       "      <td></td>\n",
       "      <td></td>\n",
       "    </tr>\n",
       "    <tr>\n",
       "      <th>15</th>\n",
       "      <td>105.20</td>\n",
       "      <td>2019</td>\n",
       "      <td>A</td>\n",
       "      <td></td>\n",
       "      <td>P</td>\n",
       "      <td>Count</td>\n",
       "      <td>FALSE</td>\n",
       "      <td>2029.0</td>\n",
       "      <td>Projected</td>\n",
       "      <td></td>\n",
       "      <td>2029.0</td>\n",
       "      <td></td>\n",
       "      <td></td>\n",
       "      <td></td>\n",
       "      <td></td>\n",
       "      <td></td>\n",
       "      <td></td>\n",
       "      <td></td>\n",
       "      <td></td>\n",
       "      <td></td>\n",
       "      <td></td>\n",
       "      <td></td>\n",
       "    </tr>\n",
       "  </tbody>\n",
       "</table>\n",
       "</div>"
      ],
      "text/plain": [
       "   digest_table_id digest_table_year digest_table_sub_id  \\\n",
       "0           105.20              2019                   A   \n",
       "1           105.20              2019                   A   \n",
       "2           105.20              2019                   A   \n",
       "3           105.20              2019                   A   \n",
       "4           105.20              2019                   A   \n",
       "5           105.20              2019                   A   \n",
       "6           105.20              2019                   A   \n",
       "7           105.20              2019                   A   \n",
       "8           105.20              2019                   A   \n",
       "9           105.20              2019                   A   \n",
       "10          105.20              2019                   A   \n",
       "11          105.20              2019                   A   \n",
       "12          105.20              2019                   A   \n",
       "13          105.20              2019                   A   \n",
       "14          105.20              2019                   A   \n",
       "15          105.20              2019                   A   \n",
       "\n",
       "   digest_table_sub_title column_index value_represents is_total    year  \\\n",
       "0                                    A            Count    FALSE  1990.0   \n",
       "1                                    B            Count    FALSE  2000.0   \n",
       "2                                    C            Count    FALSE  2010.0   \n",
       "3                                    D            Count    FALSE  2017.0   \n",
       "4                                    E            Count    FALSE  2018.0   \n",
       "5                                    F            Count    FALSE  2019.0   \n",
       "6                                    G            Count    FALSE  2020.0   \n",
       "7                                    H            Count    FALSE  2021.0   \n",
       "8                                    I            Count    FALSE  2022.0   \n",
       "9                                    J            Count    FALSE  2023.0   \n",
       "10                                   K            Count    FALSE  2024.0   \n",
       "11                                   L            Count    FALSE  2025.0   \n",
       "12                                   M            Count    FALSE  2026.0   \n",
       "13                                   N            Count    FALSE  2027.0   \n",
       "14                                   O            Count    FALSE  2028.0   \n",
       "15                                   P            Count    FALSE  2029.0   \n",
       "\n",
       "   column_level_1 column_ref_note_1 column_level_2 column_ref_note_2  \\\n",
       "0          Actual                           1990.0                     \n",
       "1          Actual                           2000.0                     \n",
       "2          Actual                           2010.0                     \n",
       "3          Actual                           2017.0                     \n",
       "4       Projected                           2018.0                     \n",
       "5       Projected                           2019.0                     \n",
       "6       Projected                           2020.0                     \n",
       "7       Projected                           2021.0                     \n",
       "8       Projected                           2022.0                     \n",
       "9       Projected                           2023.0                     \n",
       "10      Projected                           2024.0                     \n",
       "11      Projected                           2025.0                     \n",
       "12      Projected                           2026.0                     \n",
       "13      Projected                           2027.0                     \n",
       "14      Projected                           2028.0                     \n",
       "15      Projected                           2029.0                     \n",
       "\n",
       "   column_level_3 column_ref_note_3 column_level_4 column_ref_note_4  \\\n",
       "0                                                                      \n",
       "1                                                                      \n",
       "2                                                                      \n",
       "3                                                                      \n",
       "4                                                                      \n",
       "5                                                                      \n",
       "6                                                                      \n",
       "7                                                                      \n",
       "8                                                                      \n",
       "9                                                                      \n",
       "10                                                                     \n",
       "11                                                                     \n",
       "12                                                                     \n",
       "13                                                                     \n",
       "14                                                                     \n",
       "15                                                                     \n",
       "\n",
       "   column_level_5 column_ref_note_5 column_level_6 column_ref_note_6  \\\n",
       "0                                                                      \n",
       "1                                                                      \n",
       "2                                                                      \n",
       "3                                                                      \n",
       "4                                                                      \n",
       "5                                                                      \n",
       "6                                                                      \n",
       "7                                                                      \n",
       "8                                                                      \n",
       "9                                                                      \n",
       "10                                                                     \n",
       "11                                                                     \n",
       "12                                                                     \n",
       "13                                                                     \n",
       "14                                                                     \n",
       "15                                                                     \n",
       "\n",
       "   column_level_7 column_ref_note_7  \n",
       "0                                    \n",
       "1                                    \n",
       "2                                    \n",
       "3                                    \n",
       "4                                    \n",
       "5                                    \n",
       "6                                    \n",
       "7                                    \n",
       "8                                    \n",
       "9                                    \n",
       "10                                   \n",
       "11                                   \n",
       "12                                   \n",
       "13                                   \n",
       "14                                   \n",
       "15                                   "
      ]
     },
     "execution_count": 4,
     "metadata": {},
     "output_type": "execute_result"
    }
   ],
   "source": [
    "tab.col_info"
   ]
  },
  {
   "cell_type": "code",
   "execution_count": null,
   "metadata": {},
   "outputs": [],
   "source": [
    "tables = {}\n",
    "\n",
    "directory = \"tables/\"\n",
    "for filename in os.listdir(directory):\n",
    "    if filename.endswith(\".xls\"):\n",
    "        file_directory = os.path.join(directory, filename)\n",
    "        table = Table(file_directory, \"2019\")\n",
    "        tables[table.id] = table"
   ]
  },
  {
   "cell_type": "code",
   "execution_count": null,
   "metadata": {
    "scrolled": false
   },
   "outputs": [],
   "source": [
    "tables"
   ]
  },
  {
   "cell_type": "code",
   "execution_count": null,
   "metadata": {
    "scrolled": true
   },
   "outputs": [],
   "source": [
    "tables['203.10'].table_info"
   ]
  },
  {
   "cell_type": "code",
   "execution_count": null,
   "metadata": {
    "scrolled": true
   },
   "outputs": [],
   "source": [
    "tables['203.10'].row_info"
   ]
  },
  {
   "cell_type": "code",
   "execution_count": null,
   "metadata": {
    "scrolled": true
   },
   "outputs": [],
   "source": [
    "tables['203.10'].col_info"
   ]
  },
  {
   "cell_type": "code",
   "execution_count": null,
   "metadata": {},
   "outputs": [],
   "source": [
    "tables['203.50'].cell_info"
   ]
  },
  {
   "cell_type": "code",
   "execution_count": null,
   "metadata": {
    "scrolled": true
   },
   "outputs": [],
   "source": [
    "tables['203.50'].row_info"
   ]
  },
  {
   "cell_type": "code",
   "execution_count": null,
   "metadata": {
    "scrolled": true
   },
   "outputs": [],
   "source": [
    "tables['203.50'].row_info.replace(r\"(.*)\\\\[0-9]\\\\\", r\"\\1\", regex=True)"
   ]
  },
  {
   "cell_type": "code",
   "execution_count": null,
   "metadata": {
    "scrolled": true
   },
   "outputs": [],
   "source": [
    "tables['204.10'].table_info"
   ]
  },
  {
   "cell_type": "code",
   "execution_count": null,
   "metadata": {
    "scrolled": true
   },
   "outputs": [],
   "source": [
    "tables['204.10'].row_info.info()"
   ]
  },
  {
   "cell_type": "code",
   "execution_count": null,
   "metadata": {
    "scrolled": true
   },
   "outputs": [],
   "source": [
    "tables['204.10'].col_info"
   ]
  },
  {
   "cell_type": "code",
   "execution_count": null,
   "metadata": {
    "scrolled": true
   },
   "outputs": [],
   "source": [
    "tables['204.10'].cell_info"
   ]
  },
  {
   "cell_type": "code",
   "execution_count": null,
   "metadata": {
    "scrolled": true
   },
   "outputs": [],
   "source": [
    "tables['204.27'].table_info"
   ]
  },
  {
   "cell_type": "code",
   "execution_count": null,
   "metadata": {
    "scrolled": true
   },
   "outputs": [],
   "source": [
    "tables['204.27'].col_info"
   ]
  },
  {
   "cell_type": "code",
   "execution_count": null,
   "metadata": {
    "scrolled": true
   },
   "outputs": [],
   "source": [
    "tables['213.10'].table_info"
   ]
  },
  {
   "cell_type": "code",
   "execution_count": null,
   "metadata": {
    "scrolled": true
   },
   "outputs": [],
   "source": [
    "tables['213.10'].row_info"
   ]
  },
  {
   "cell_type": "code",
   "execution_count": null,
   "metadata": {},
   "outputs": [],
   "source": [
    "tables['213.10'].cell_info"
   ]
  },
  {
   "cell_type": "code",
   "execution_count": null,
   "metadata": {
    "scrolled": true
   },
   "outputs": [],
   "source": [
    "tables['215.10'].table_info"
   ]
  },
  {
   "cell_type": "code",
   "execution_count": null,
   "metadata": {
    "scrolled": true
   },
   "outputs": [],
   "source": [
    "tables['215.10'].row_info"
   ]
  },
  {
   "cell_type": "code",
   "execution_count": null,
   "metadata": {
    "scrolled": true
   },
   "outputs": [],
   "source": [
    "tables['215.10'].col_info"
   ]
  },
  {
   "cell_type": "code",
   "execution_count": null,
   "metadata": {
    "scrolled": true
   },
   "outputs": [],
   "source": [
    "tables['217.10'].table_info"
   ]
  },
  {
   "cell_type": "code",
   "execution_count": null,
   "metadata": {
    "scrolled": true
   },
   "outputs": [],
   "source": [
    "tables['217.10'].row_info"
   ]
  },
  {
   "cell_type": "code",
   "execution_count": null,
   "metadata": {},
   "outputs": [],
   "source": [
    "tables['217.10'].cell_info"
   ]
  },
  {
   "cell_type": "code",
   "execution_count": null,
   "metadata": {
    "scrolled": true
   },
   "outputs": [],
   "source": [
    "tables['217.15'].table_info"
   ]
  },
  {
   "cell_type": "code",
   "execution_count": null,
   "metadata": {
    "scrolled": true
   },
   "outputs": [],
   "source": [
    "tables['217.15'].row_info"
   ]
  },
  {
   "cell_type": "code",
   "execution_count": null,
   "metadata": {
    "scrolled": true
   },
   "outputs": [],
   "source": [
    "tables['217.15'].col_info"
   ]
  },
  {
   "cell_type": "code",
   "execution_count": null,
   "metadata": {
    "scrolled": true
   },
   "outputs": [],
   "source": [
    "tables['217.15'].cell_info"
   ]
  },
  {
   "cell_type": "code",
   "execution_count": null,
   "metadata": {},
   "outputs": [],
   "source": [
    "tables['217.15'].row_info"
   ]
  },
  {
   "cell_type": "code",
   "execution_count": null,
   "metadata": {},
   "outputs": [],
   "source": [
    "tables['217.15'].row_info.loc[:, 'A':]"
   ]
  },
  {
   "cell_type": "code",
   "execution_count": null,
   "metadata": {},
   "outputs": [],
   "source": [
    "tables['217.15'].cell_info"
   ]
  },
  {
   "cell_type": "code",
   "execution_count": null,
   "metadata": {},
   "outputs": [],
   "source": []
  }
 ],
 "metadata": {
  "kernelspec": {
   "display_name": "Python 3",
   "language": "python",
   "name": "python3"
  },
  "language_info": {
   "codemirror_mode": {
    "name": "ipython",
    "version": 3
   },
   "file_extension": ".py",
   "mimetype": "text/x-python",
   "name": "python",
   "nbconvert_exporter": "python",
   "pygments_lexer": "ipython3",
   "version": "3.8.3"
  }
 },
 "nbformat": 4,
 "nbformat_minor": 4
}
