{
 "cells": [
  {
   "cell_type": "code",
   "execution_count": 1,
   "source": [
    "import numpy as np\r\n",
    "import pandas as pd\r\n",
    "import re\r\n",
    "import os\r\n",
    "from table import Table"
   ],
   "outputs": [],
   "metadata": {}
  },
  {
   "cell_type": "code",
   "execution_count": 2,
   "source": [
    "tables = {}\r\n",
    "\r\n",
    "directory = \"Initial Tables/\"\r\n",
    "for filename in os.listdir(directory):\r\n",
    "    if filename.endswith(\".xls\"):\r\n",
    "        file_directory = os.path.join(directory, filename)\r\n",
    "        print(file_directory)\r\n",
    "        table = Table(file_directory)\r\n",
    "        tables[table.id] = table"
   ],
   "outputs": [
    {
     "output_type": "stream",
     "name": "stdout",
     "text": [
      "Initial Tables/tabn203.10.xls\n",
      "Initial Tables/tabn203.50.xls\n",
      "Initial Tables/tabn204.10.xls\n",
      "Initial Tables/tabn204.27.xls\n",
      "Initial Tables/tabn213.10.xls\n",
      "Initial Tables/tabn215.10.xls\n",
      "Initial Tables/tabn217.10.xls\n",
      "Initial Tables/tabn217.15.xls\n",
      "Initial Tables/tabn219.70.xls\n",
      "Initial Tables/tabn236.30.xls\n",
      "Initial Tables/tabn318.45.xls\n"
     ]
    }
   ],
   "metadata": {}
  },
  {
   "cell_type": "code",
   "execution_count": 3,
   "source": [
    "tables"
   ],
   "outputs": [
    {
     "output_type": "execute_result",
     "data": {
      "text/plain": [
       "{'203.10': <table.Table at 0x24e4b869760>,\n",
       " '203.50': <table.Table at 0x24e4a803eb0>,\n",
       " '204.10': <table.Table at 0x24e4da7c220>,\n",
       " '204.27': <table.Table at 0x24e4db0af70>,\n",
       " '213.10': <table.Table at 0x24e4daaefa0>,\n",
       " '215.10': <table.Table at 0x24e4df25bb0>,\n",
       " '217.10': <table.Table at 0x24e4e25e640>,\n",
       " '217.15': <table.Table at 0x24e4e1feb50>,\n",
       " '219.70': <table.Table at 0x24e4da5ae20>,\n",
       " '236.30': <table.Table at 0x24e4e06dbb0>,\n",
       " '318.45': <table.Table at 0x24e4e3e5910>}"
      ]
     },
     "metadata": {},
     "execution_count": 3
    }
   ],
   "metadata": {}
  },
  {
   "cell_type": "code",
   "execution_count": 4,
   "source": [
    "tab = tables['203.10']"
   ],
   "outputs": [],
   "metadata": {}
  },
  {
   "cell_type": "code",
   "execution_count": 5,
   "source": [
    "tab.table_info"
   ],
   "outputs": [
    {
     "output_type": "execute_result",
     "data": {
      "text/plain": [
       "  digest_table_id digest_table_year digest_table_sub_id  \\\n",
       "0          203.10              2019                   A   \n",
       "1          203.10              2019                   B   \n",
       "\n",
       "  digest_table_sub_title digest_table_sub_title_note has_SE location_in  \\\n",
       "0                                                     FALSE       Title   \n",
       "1              Projected                              FALSE       Title   \n",
       "\n",
       "  year_in year       location location_type  \\\n",
       "0     Row       United States        Region   \n",
       "1     Row       United States        Region   \n",
       "\n",
       "                                         table_title        headnote  \\\n",
       "0  Enrollment in public elementary and secondary ...  [In thousands]   \n",
       "1  Enrollment in public elementary and secondary ...  [In thousands]   \n",
       "\n",
       "  stub_head                                       general_note  \\\n",
       "0      Year  Due to changes in reporting and imputation pra...   \n",
       "1      Year  Due to changes in reporting and imputation pra...   \n",
       "\n",
       "                                         source_note  \\\n",
       "0  U.S. Department of Education, National Center ...   \n",
       "1  U.S. Department of Education, National Center ...   \n",
       "\n",
       "                            last_prepared  \n",
       "0  This table was prepared December 2019.  \n",
       "1  This table was prepared December 2019.  "
      ],
      "text/html": [
       "<div>\n",
       "<style scoped>\n",
       "    .dataframe tbody tr th:only-of-type {\n",
       "        vertical-align: middle;\n",
       "    }\n",
       "\n",
       "    .dataframe tbody tr th {\n",
       "        vertical-align: top;\n",
       "    }\n",
       "\n",
       "    .dataframe thead th {\n",
       "        text-align: right;\n",
       "    }\n",
       "</style>\n",
       "<table border=\"1\" class=\"dataframe\">\n",
       "  <thead>\n",
       "    <tr style=\"text-align: right;\">\n",
       "      <th></th>\n",
       "      <th>digest_table_id</th>\n",
       "      <th>digest_table_year</th>\n",
       "      <th>digest_table_sub_id</th>\n",
       "      <th>digest_table_sub_title</th>\n",
       "      <th>digest_table_sub_title_note</th>\n",
       "      <th>has_SE</th>\n",
       "      <th>location_in</th>\n",
       "      <th>year_in</th>\n",
       "      <th>year</th>\n",
       "      <th>location</th>\n",
       "      <th>location_type</th>\n",
       "      <th>table_title</th>\n",
       "      <th>headnote</th>\n",
       "      <th>stub_head</th>\n",
       "      <th>general_note</th>\n",
       "      <th>source_note</th>\n",
       "      <th>last_prepared</th>\n",
       "    </tr>\n",
       "  </thead>\n",
       "  <tbody>\n",
       "    <tr>\n",
       "      <th>0</th>\n",
       "      <td>203.10</td>\n",
       "      <td>2019</td>\n",
       "      <td>A</td>\n",
       "      <td></td>\n",
       "      <td></td>\n",
       "      <td>FALSE</td>\n",
       "      <td>Title</td>\n",
       "      <td>Row</td>\n",
       "      <td></td>\n",
       "      <td>United States</td>\n",
       "      <td>Region</td>\n",
       "      <td>Enrollment in public elementary and secondary ...</td>\n",
       "      <td>[In thousands]</td>\n",
       "      <td>Year</td>\n",
       "      <td>Due to changes in reporting and imputation pra...</td>\n",
       "      <td>U.S. Department of Education, National Center ...</td>\n",
       "      <td>This table was prepared December 2019.</td>\n",
       "    </tr>\n",
       "    <tr>\n",
       "      <th>1</th>\n",
       "      <td>203.10</td>\n",
       "      <td>2019</td>\n",
       "      <td>B</td>\n",
       "      <td>Projected</td>\n",
       "      <td></td>\n",
       "      <td>FALSE</td>\n",
       "      <td>Title</td>\n",
       "      <td>Row</td>\n",
       "      <td></td>\n",
       "      <td>United States</td>\n",
       "      <td>Region</td>\n",
       "      <td>Enrollment in public elementary and secondary ...</td>\n",
       "      <td>[In thousands]</td>\n",
       "      <td>Year</td>\n",
       "      <td>Due to changes in reporting and imputation pra...</td>\n",
       "      <td>U.S. Department of Education, National Center ...</td>\n",
       "      <td>This table was prepared December 2019.</td>\n",
       "    </tr>\n",
       "  </tbody>\n",
       "</table>\n",
       "</div>"
      ]
     },
     "metadata": {},
     "execution_count": 5
    }
   ],
   "metadata": {}
  }
 ],
 "metadata": {
  "kernelspec": {
   "name": "python3",
   "display_name": "Python 3.8.8 64-bit ('base': conda)"
  },
  "language_info": {
   "codemirror_mode": {
    "name": "ipython",
    "version": 3
   },
   "file_extension": ".py",
   "mimetype": "text/x-python",
   "name": "python",
   "nbconvert_exporter": "python",
   "pygments_lexer": "ipython3",
   "version": "3.8.8"
  },
  "interpreter": {
   "hash": "0aff3d705c6bc1f752ee24c1ebfded68ae5a49d2061eb27aa501afccc65f623e"
  }
 },
 "nbformat": 4,
 "nbformat_minor": 4
}