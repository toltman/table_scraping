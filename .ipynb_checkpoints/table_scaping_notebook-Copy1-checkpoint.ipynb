{
 "cells": [
  {
   "cell_type": "code",
   "execution_count": 1,
   "metadata": {},
   "outputs": [],
   "source": [
    "import pandas as pd\n",
    "import numpy as np\n",
    "import xlrd\n",
    "import re"
   ]
  },
  {
   "cell_type": "code",
   "execution_count": 2,
   "metadata": {},
   "outputs": [],
   "source": [
    "digest_table_id = \"236.30\"\n",
    "digest_table_year = \"2019\"\n",
    "table_file = \"tabn236.30.xls\""
   ]
  },
  {
   "cell_type": "code",
   "execution_count": 3,
   "metadata": {
    "scrolled": true
   },
   "outputs": [],
   "source": [
    "book = xlrd.open_workbook(table_file,formatting_info=True)\n",
    "sh = book.sheet_by_index(0)\n",
    "font = book.font_list\n",
    "\n",
    "# read in the raw dataset from excel\n",
    "df = pd.read_excel(\"tabn236.30.xls\", header=None)"
   ]
  },
  {
   "cell_type": "code",
   "execution_count": 4,
   "metadata": {},
   "outputs": [],
   "source": [
    "# create file name\n",
    "digest_number = digest_table_id.replace(\".\", \"_\")\n",
    "output_file = f\"{digest_table_year}_{digest_number}_activate_step1.xlsx\""
   ]
  },
  {
   "cell_type": "markdown",
   "metadata": {},
   "source": [
    "## Create Table Info"
   ]
  },
  {
   "cell_type": "code",
   "execution_count": 5,
   "metadata": {},
   "outputs": [],
   "source": [
    "def create_table_info(sh, df):\n",
    "\n",
    "    ## Table Title\n",
    "    prog = re.compile(r\"Table (\\d{3}\\.\\d{2})\\. (.*)\")\n",
    "    result = prog.match(sh.cell_value(0,0))\n",
    "    table_title = result.group(2)\n",
    "\n",
    "    # headnote\n",
    "    headnote = sh.cell_value(1,0)\n",
    "\n",
    "    # stub_head\n",
    "    stub_head = sh.cell_value(2,0)\n",
    "\n",
    "    # general_note\n",
    "    general = df[0].str.extract(r\"NOTE: (.*)\").dropna()\n",
    "    general_note = general[0].values[0].strip()\n",
    "\n",
    "    # source\n",
    "    source = df[0].str.extract(r\"SOURCE: (.*)\\((.*)\\)\").dropna()\n",
    "    source_note = source[0].values[0].strip()\n",
    "\n",
    "    # last_prepared\n",
    "    last_prepared = source[1].values[0].strip()\n",
    "\n",
    "    col_list = [\n",
    "        'digest_table_id', \n",
    "        'digest_table_year', \n",
    "        'table_title',\n",
    "        'headnote',\n",
    "        'stub_head',\n",
    "        'general_note',\n",
    "        'source_note',\n",
    "        'last_prepared'\n",
    "    ]\n",
    "\n",
    "    val_list = [\n",
    "        digest_table_id, \n",
    "        digest_table_year, \n",
    "        table_title,\n",
    "        headnote,\n",
    "        stub_head,\n",
    "        general_note,\n",
    "        source_note,\n",
    "        last_prepared\n",
    "    ]\n",
    "\n",
    "    table_info = pd.DataFrame(np.array([col_list, val_list]))\n",
    "    return table_info"
   ]
  },
  {
   "cell_type": "code",
   "execution_count": 6,
   "metadata": {},
   "outputs": [],
   "source": [
    "table_info = create_table_info(sh, df)"
   ]
  },
  {
   "cell_type": "markdown",
   "metadata": {},
   "source": [
    "## Row Info Tab"
   ]
  },
  {
   "cell_type": "code",
   "execution_count": 19,
   "metadata": {},
   "outputs": [
    {
     "data": {
      "text/plain": [
       "'Table 236.30. Total expenditures for public elementary and secondary education and other related programs, by function and state or jurisdiction: 2016-17'"
      ]
     },
     "execution_count": 19,
     "metadata": {},
     "output_type": "execute_result"
    }
   ],
   "source": [
    "sh.cell_value(0,0)"
   ]
  },
  {
   "cell_type": "code",
   "execution_count": 22,
   "metadata": {},
   "outputs": [
    {
     "data": {
      "text/plain": [
       "'   United States ........'"
      ]
     },
     "execution_count": 22,
     "metadata": {},
     "output_type": "execute_result"
    }
   ],
   "source": [
    "sh.cell_value(7,0)"
   ]
  },
  {
   "cell_type": "code",
   "execution_count": 23,
   "metadata": {},
   "outputs": [
    {
     "data": {
      "text/plain": [
       "1"
      ]
     },
     "execution_count": 23,
     "metadata": {},
     "output_type": "execute_result"
    }
   ],
   "source": [
    "cell_xf = book.xf_list[sh.cell_xf_index(7,0)]\n",
    "font[cell_xf.font_index].bold"
   ]
  },
  {
   "cell_type": "code",
   "execution_count": null,
   "metadata": {},
   "outputs": [],
   "source": []
  },
  {
   "cell_type": "markdown",
   "metadata": {},
   "source": [
    "## Create Column Info Sheet"
   ]
  },
  {
   "cell_type": "code",
   "execution_count": 7,
   "metadata": {},
   "outputs": [],
   "source": [
    "def AA(num, string):\n",
    "    \"\"\"Recursively builds column index\n",
    "    \n",
    "    Inspired by from this Stackoverflow answer:\n",
    "    https://stackoverflow.com/a/54837286\n",
    "    \"\"\"\n",
    "    \n",
    "    r = num % 26\n",
    "    num = (num - r) // 26\n",
    "    string = chr(ord(\"A\") + r) + string\n",
    "    \n",
    "    if num > 26:\n",
    "        string = AA(num, string)\n",
    "    elif num > 0:\n",
    "        string = chr(ord(\"A\") + num - 1) + string\n",
    "        \n",
    "    return string"
   ]
  },
  {
   "cell_type": "code",
   "execution_count": 8,
   "metadata": {},
   "outputs": [],
   "source": [
    "def header_end(sheet, df):\n",
    "    \"\"\"Returns the row number of the integer row\"\"\"\n",
    "    \n",
    "    for row in range(0,sheet.nrows):\n",
    "        if list(df.iloc[row,:]) == list(range(1,sheet.ncols+1)):\n",
    "            return row\n",
    "        \n",
    "    print(\"End of file reached, no integer row\")\n",
    "    return 0"
   ]
  },
  {
   "cell_type": "code",
   "execution_count": 9,
   "metadata": {},
   "outputs": [],
   "source": [
    "def attach_header(file_name, sheet, df):\n",
    "    \"\"\"Returns the same dataframe with formatted column headers\"\"\"\n",
    "    \n",
    "    header_n = header_end(sheet, df)\n",
    "    skip = 2\n",
    "    header = pd.read_excel(file_name, \n",
    "                               skiprows=skip, \n",
    "                               header=None, \n",
    "                               nrows=header_n-skip,\n",
    "                               usecols=list(range(1,sh.ncols))\n",
    "                          )\n",
    "    header = header.ffill(axis=0).ffill(axis=1)\n",
    "    data = pd.read_excel(file_name,\n",
    "                         skiprows=header_n + 1,\n",
    "                         header=None,\n",
    "                         usecols=list(range(1,sh.ncols))\n",
    "                        )\n",
    "    data.columns = pd.MultiIndex.from_arrays(header.values)\n",
    "    \n",
    "    return data"
   ]
  },
  {
   "cell_type": "code",
   "execution_count": 10,
   "metadata": {},
   "outputs": [],
   "source": [
    "data = attach_header(table_file, sh, df)"
   ]
  },
  {
   "cell_type": "code",
   "execution_count": 11,
   "metadata": {},
   "outputs": [],
   "source": [
    "def create_col_info(df):\n",
    "    \"\"\"Returns DataFrame with column information\"\"\"\n",
    "    \n",
    "    # convert header df to col_info dataframe\n",
    "    col_info = data.columns.to_frame(index=False)\n",
    "    is_duplicate = col_info.apply(lambda row: row.duplicated(), axis=1)\n",
    "    col_info = col_info.where(~is_duplicate, \"\")\n",
    "    \n",
    "    # create extra columns for unused columns index levels\n",
    "    for x in range(col_info.shape[1], 7):\n",
    "        col_info.insert(x, x, \"\")\n",
    "    \n",
    "    # label column levels\n",
    "    col_info.columns = [f\"column_level_{col+1}\" for col in col_info.columns]\n",
    "    \n",
    "    # add table_id and table_year to col_info\n",
    "    col_info[\"digest_table_id\"] = digest_table_id\n",
    "    col_info[\"digest_table_year\"] = digest_table_year\n",
    "    \n",
    "    # create column_index field\n",
    "    col_info[\"column_index\"] = [AA(i,\"\") for i in col_info.index]\n",
    "    \n",
    "    return col_info"
   ]
  },
  {
   "cell_type": "code",
   "execution_count": 12,
   "metadata": {},
   "outputs": [],
   "source": [
    "col_info = create_col_info(data)"
   ]
  },
  {
   "cell_type": "code",
   "execution_count": 13,
   "metadata": {},
   "outputs": [],
   "source": [
    "def add_footnotes(df, col_info):\n",
    "    \"\"\"Adds footnote columns and sorts columns\"\"\"\n",
    "    \n",
    "    # Extract footnotes from raw df\n",
    "    footnotes = df[0].str.extract(r\"\\\\([0-9])\\\\(.*)\").dropna()\n",
    "    footnotes.columns = [\"number\", \"note\"]\n",
    "    footnotes = footnotes.set_index(\"number\")\n",
    "\n",
    "    # Extract footnotes from raw df\n",
    "    footnotes = df[0].str.extract(r\"\\\\([0-9])\\\\(.*)\").dropna().set_index(0)\n",
    "    footnotes_dict = footnotes.to_dict()[1]\n",
    "\n",
    "    # create column_ref_note columns\n",
    "    for x in range(1,8):\n",
    "        col = col_info[f\"column_level_{x}\"]\n",
    "\n",
    "        # create a reference column with the footnote number\n",
    "        refs = col.str.extract(r\"\\\\([0-9])\\\\\")\n",
    "\n",
    "        # create new column with the reference note\n",
    "        col_info[f\"column_ref_note_{x}\"] = refs.replace(footnotes_dict)\n",
    "\n",
    "        # delete footnote from column_level_x\n",
    "        col_level = col.str.replace(\n",
    "            pat = r\"\\\\[0-9]\\\\\",\n",
    "            repl = \"\"\n",
    "        )\n",
    "\n",
    "        col_info[f\"column_level_{x}\"] = col_level\n",
    "\n",
    "    # Remove extra headers\n",
    "    col_info = col_info.fillna(\"\")\n",
    "\n",
    "    # list of columns in the desired order\n",
    "    col_list = [[f\"column_level_{x}\", f\"column_ref_note_{x}\"] for x in range(1,8)]\n",
    "    col_list = list(np.array(col_list).flatten())\n",
    "\n",
    "    # rearrange column order\n",
    "    col_info = col_info[\n",
    "        ['digest_table_id', 'digest_table_year', 'column_index'] + \n",
    "        col_list\n",
    "    ]\n",
    "    \n",
    "    return col_info"
   ]
  },
  {
   "cell_type": "code",
   "execution_count": 14,
   "metadata": {},
   "outputs": [],
   "source": [
    "col_info = add_footnotes(df, col_info)"
   ]
  },
  {
   "cell_type": "markdown",
   "metadata": {},
   "source": [
    "### Output to Excel"
   ]
  },
  {
   "cell_type": "code",
   "execution_count": 15,
   "metadata": {},
   "outputs": [],
   "source": [
    "# make column names part of dataframe\n",
    "col_info = pd.DataFrame(np.vstack([col_info.columns, col_info]))"
   ]
  },
  {
   "cell_type": "code",
   "execution_count": 16,
   "metadata": {},
   "outputs": [],
   "source": [
    "with pd.ExcelWriter(output_file) as writer:\n",
    "    table_info.to_excel(\n",
    "        writer, \n",
    "        sheet_name=\"table_info\", \n",
    "        index=False,\n",
    "        header=False\n",
    "    )\n",
    "    col_info.to_excel(\n",
    "        writer, \n",
    "        sheet_name=\"column_info\",\n",
    "        index=False,\n",
    "        header=False\n",
    "    )"
   ]
  }
 ],
 "metadata": {
  "kernelspec": {
   "display_name": "Python 3",
   "language": "python",
   "name": "python3"
  },
  "language_info": {
   "codemirror_mode": {
    "name": "ipython",
    "version": 3
   },
   "file_extension": ".py",
   "mimetype": "text/x-python",
   "name": "python",
   "nbconvert_exporter": "python",
   "pygments_lexer": "ipython3",
   "version": "3.8.3"
  }
 },
 "nbformat": 4,
 "nbformat_minor": 4
}
